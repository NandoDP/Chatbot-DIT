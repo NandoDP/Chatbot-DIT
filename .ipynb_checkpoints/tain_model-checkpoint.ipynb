{
 "cells": [
  {
   "cell_type": "markdown",
   "id": "381d7395-e7d6-4734-80ce-57ecbdb207c5",
   "metadata": {},
   "source": [
    "# Importations"
   ]
  },
  {
   "cell_type": "code",
   "execution_count": 1,
   "id": "5a71bf5d-d6e0-4ff0-bc0c-5bc26206ad9b",
   "metadata": {},
   "outputs": [],
   "source": [
    "import numpy as np\n",
    "import json\n",
    "import joblib\n",
    "import string\n",
    "\n",
    "import nltk\n",
    "from nltk.stem import SnowballStemmer\n",
    "\n",
    "from sklearn.naive_bayes import MultinomialNB\n",
    "from sklearn.metrics import accuracy_score, classification_report"
   ]
  },
  {
   "cell_type": "code",
   "execution_count": null,
   "id": "ac8eb9c3-916a-4cf7-895a-cae9c6b6764b",
   "metadata": {},
   "outputs": [],
   "source": [
    "# # Téléchargement de ressources (si nécessaire)\n",
    "# nltk.download('punkt')"
   ]
  },
  {
   "cell_type": "code",
   "execution_count": 2,
   "id": "f9aa9eff-46eb-4030-8758-5fb6edf8584d",
   "metadata": {},
   "outputs": [],
   "source": [
    "stemmer = SnowballStemmer(\"french\")"
   ]
  },
  {
   "cell_type": "code",
   "execution_count": 3,
   "id": "95f6ddc9-bdd8-4182-847b-e7516cec3d37",
   "metadata": {},
   "outputs": [],
   "source": [
    "# charger le fichier intents.json\n",
    "with open('intents.json', 'r', encoding='utf-8') as f:\n",
    "    intents = json.load(f)"
   ]
  },
  {
   "cell_type": "markdown",
   "id": "b0da2c6e-99de-448d-8a15-500544e2256b",
   "metadata": {},
   "source": [
    "# Fonctions utiles"
   ]
  },
  {
   "cell_type": "code",
   "execution_count": 4,
   "id": "c4061e85-008f-47a2-b598-06106fda495a",
   "metadata": {},
   "outputs": [],
   "source": [
    "#ecrire une fonction remove_punct qui supprime les ponctuations\n",
    "def remove_punct(text:str) -> str:\n",
    "    text_nopunct = \"\".join([char for char in text if char not in string.punctuation])\n",
    "    return text_nopunct\n",
    "    \n",
    "\n",
    "def tokenize(sentence):\n",
    "    return nltk.word_tokenize(sentence)\n",
    "\n",
    "\n",
    "def stem(word):\n",
    "    return stemmer.stem(word.lower())"
   ]
  },
  {
   "cell_type": "code",
   "execution_count": 5,
   "id": "434d70d7-8626-4815-88b7-03d57e6b3566",
   "metadata": {},
   "outputs": [],
   "source": [
    "def bag_of_words(tokenized_sentence, words):\n",
    "    # stem chaque mot\n",
    "    sentence_words = [stem(word) for word in tokenized_sentence]\n",
    "    # initialiser le sac avec 0 pour chaque mot\n",
    "    bag = np.zeros(len(words), dtype=np.float32)\n",
    "    for idx, w in enumerate(words):\n",
    "        if w in sentence_words: \n",
    "            bag[idx] = 1\n",
    "\n",
    "    return bag"
   ]
  },
  {
   "cell_type": "markdown",
   "id": "1a0f9bd7-3688-436f-9b7d-90f5f435c92d",
   "metadata": {},
   "source": [
    "# Prétraitement"
   ]
  },
  {
   "cell_type": "code",
   "execution_count": 6,
   "id": "77dd2729-40f4-4862-822a-73894941034e",
   "metadata": {},
   "outputs": [],
   "source": [
    "words = []\n",
    "tags = []\n",
    "xy = []\n",
    "# parcourir chaque phrase dans intents\n",
    "for intent in intents['intentions']:\n",
    "    tag = intent['tag']\n",
    "    # ajouter a la liste de tag\n",
    "    tags.append(tag)\n",
    "    for question in intent['questions']:\n",
    "        # supprimer les ponctuations\n",
    "        question = remove_punct(question)\n",
    "        # tokeniser chaque mot de la phrase\n",
    "        w = tokenize(question)\n",
    "        # ajouter a la liste de mots\n",
    "        words.extend(w)\n",
    "        # ajouter le tuple (mot, tag) a la liste\n",
    "        xy.append((w, tag))"
   ]
  },
  {
   "cell_type": "code",
   "execution_count": 7,
   "id": "ed63cb82-59c8-4154-9f2f-493f687d6e85",
   "metadata": {},
   "outputs": [
    {
     "name": "stdout",
     "output_type": "stream",
     "text": [
      "103 questions\n",
      "21 tags: ['bourse', 'contacts', 'cout_dsi', 'cout_licence', 'cout_master', 'horaire_dsi', 'horaire_licence', 'horaire_master', 'infos_dsi', 'infos_ecole', 'infos_formations', 'infos_licence', 'infos_master', 'localisation', 'prerequis_dsi', 'prerequis_licence', 'prerequis_master', 'programme_dsi', 'programme_licence', 'programme_master', 'salutations']\n",
      "147 mots à base unique: ['accrédit', 'adress', 'allezvous', 'arriv', 'artificiel', 'atil', 'autor', 'avezvous', 'avoir', 'big', 'bonjour', 'bonsoir', 'bours', 'ce', 'cet', 'chez', 'combien', 'comm', 'comment', 'compétent', 'condit', 'connaitr', 'contact', 'cour', 'coût', 'criter', 'dadmiss', 'dadmissibil', 'dan', 'dat', 'de', 'différent', 'dinform', 'dinscript', 'dir', 'disponibl', 'dobten', 'don', 'du', 'déroul', 'déroulent', 'détud', 'e', 'en', 'enseign', 'est', 'estce', 'estel', 'et', 'financ', 'financi', 'format', 'fourn', 'genr', 'heur', 'horair', 'ia', 'il', 'inform', 'intelligent', 'intens', 'je', 'joindr', 'jour', 'journ', 'l', 'la', 'ladress', 'le', 'licenc', 'lign', 'list', 'local', 'lécol', 'létat', 'mail', 'mast', 'mati', 'me', 'men', 'mensual', 'minister', 'modal', 'modul', 'moi', 'numéro', 'offert', 'offre', 'offrezvous', 'option', 'ou', 'où', 'par', 'parl', 'peuton', 'peux', 'plus', 'possibl', 'postul', 'pour', 'pourriezvous', 'pouvezvous', 'prix', 'programm', 'propos', 'prérequ', 'présentiel', 'puisj', 'qualif', 'que', 'quel', 'qui', 'reconnu', 'requis', 'salut', 'samed', 'scienc', 'se', 'sinscrir', 'situ', 'soir', 'sont', 'suivent', 'suivr', 'supplémentair', 'supérieur', 'sur', 'tarif', 'total', 'trouv', 'typ', 'téléphon', 'une', 'uniqu', 'va', 'vastu', 'vill', 'vos', 'votr', 'vous', 'y', 'à', 'ça', 'écol', 'étudi', 'ête', '’']\n"
     ]
    }
   ],
   "source": [
    "# stemmer et mettre en muniscule chaque mot\n",
    "words = [ stem(w) for w in words ]\n",
    "# supprimer les duplicatats et trier\n",
    "words = sorted(set(words))\n",
    "tags = sorted(set(tags))\n",
    "\n",
    "print(len(xy), \"questions\")\n",
    "print(len(tags), \"tags:\", tags)\n",
    "print(len(words), \"mots à base unique:\", words)"
   ]
  },
  {
   "cell_type": "code",
   "execution_count": 8,
   "id": "bb1693c2-baa3-4f1f-b767-d68c8d28a1cb",
   "metadata": {},
   "outputs": [],
   "source": [
    "# creer les données d'entrainements\n",
    "X_train = []\n",
    "y_train = []\n",
    "for (pattern_sentence, tag) in xy:\n",
    "    # X: bag of words\n",
    "    bag = bag_of_words(pattern_sentence, words)\n",
    "    X_train.append(bag)\n",
    "    label = tags.index(tag)\n",
    "    y_train.append(label)\n",
    "\n",
    "# convertir en tableau numpy\n",
    "X_train = np.array(X_train)\n",
    "y_train = np.array(y_train)"
   ]
  },
  {
   "cell_type": "markdown",
   "id": "b9151004-4649-41c6-ad6c-1c60968d568b",
   "metadata": {},
   "source": [
    "# Creation et entrainement du modele"
   ]
  },
  {
   "cell_type": "code",
   "execution_count": 9,
   "id": "e349cfef-daab-4073-ada7-3682a54df940",
   "metadata": {},
   "outputs": [
    {
     "data": {
      "text/html": [
       "<style>#sk-container-id-1 {color: black;background-color: white;}#sk-container-id-1 pre{padding: 0;}#sk-container-id-1 div.sk-toggleable {background-color: white;}#sk-container-id-1 label.sk-toggleable__label {cursor: pointer;display: block;width: 100%;margin-bottom: 0;padding: 0.3em;box-sizing: border-box;text-align: center;}#sk-container-id-1 label.sk-toggleable__label-arrow:before {content: \"▸\";float: left;margin-right: 0.25em;color: #696969;}#sk-container-id-1 label.sk-toggleable__label-arrow:hover:before {color: black;}#sk-container-id-1 div.sk-estimator:hover label.sk-toggleable__label-arrow:before {color: black;}#sk-container-id-1 div.sk-toggleable__content {max-height: 0;max-width: 0;overflow: hidden;text-align: left;background-color: #f0f8ff;}#sk-container-id-1 div.sk-toggleable__content pre {margin: 0.2em;color: black;border-radius: 0.25em;background-color: #f0f8ff;}#sk-container-id-1 input.sk-toggleable__control:checked~div.sk-toggleable__content {max-height: 200px;max-width: 100%;overflow: auto;}#sk-container-id-1 input.sk-toggleable__control:checked~label.sk-toggleable__label-arrow:before {content: \"▾\";}#sk-container-id-1 div.sk-estimator input.sk-toggleable__control:checked~label.sk-toggleable__label {background-color: #d4ebff;}#sk-container-id-1 div.sk-label input.sk-toggleable__control:checked~label.sk-toggleable__label {background-color: #d4ebff;}#sk-container-id-1 input.sk-hidden--visually {border: 0;clip: rect(1px 1px 1px 1px);clip: rect(1px, 1px, 1px, 1px);height: 1px;margin: -1px;overflow: hidden;padding: 0;position: absolute;width: 1px;}#sk-container-id-1 div.sk-estimator {font-family: monospace;background-color: #f0f8ff;border: 1px dotted black;border-radius: 0.25em;box-sizing: border-box;margin-bottom: 0.5em;}#sk-container-id-1 div.sk-estimator:hover {background-color: #d4ebff;}#sk-container-id-1 div.sk-parallel-item::after {content: \"\";width: 100%;border-bottom: 1px solid gray;flex-grow: 1;}#sk-container-id-1 div.sk-label:hover label.sk-toggleable__label {background-color: #d4ebff;}#sk-container-id-1 div.sk-serial::before {content: \"\";position: absolute;border-left: 1px solid gray;box-sizing: border-box;top: 0;bottom: 0;left: 50%;z-index: 0;}#sk-container-id-1 div.sk-serial {display: flex;flex-direction: column;align-items: center;background-color: white;padding-right: 0.2em;padding-left: 0.2em;position: relative;}#sk-container-id-1 div.sk-item {position: relative;z-index: 1;}#sk-container-id-1 div.sk-parallel {display: flex;align-items: stretch;justify-content: center;background-color: white;position: relative;}#sk-container-id-1 div.sk-item::before, #sk-container-id-1 div.sk-parallel-item::before {content: \"\";position: absolute;border-left: 1px solid gray;box-sizing: border-box;top: 0;bottom: 0;left: 50%;z-index: -1;}#sk-container-id-1 div.sk-parallel-item {display: flex;flex-direction: column;z-index: 1;position: relative;background-color: white;}#sk-container-id-1 div.sk-parallel-item:first-child::after {align-self: flex-end;width: 50%;}#sk-container-id-1 div.sk-parallel-item:last-child::after {align-self: flex-start;width: 50%;}#sk-container-id-1 div.sk-parallel-item:only-child::after {width: 0;}#sk-container-id-1 div.sk-dashed-wrapped {border: 1px dashed gray;margin: 0 0.4em 0.5em 0.4em;box-sizing: border-box;padding-bottom: 0.4em;background-color: white;}#sk-container-id-1 div.sk-label label {font-family: monospace;font-weight: bold;display: inline-block;line-height: 1.2em;}#sk-container-id-1 div.sk-label-container {text-align: center;}#sk-container-id-1 div.sk-container {/* jupyter's `normalize.less` sets `[hidden] { display: none; }` but bootstrap.min.css set `[hidden] { display: none !important; }` so we also need the `!important` here to be able to override the default hidden behavior on the sphinx rendered scikit-learn.org. See: https://github.com/scikit-learn/scikit-learn/issues/21755 */display: inline-block !important;position: relative;}#sk-container-id-1 div.sk-text-repr-fallback {display: none;}</style><div id=\"sk-container-id-1\" class=\"sk-top-container\"><div class=\"sk-text-repr-fallback\"><pre>MultinomialNB()</pre><b>In a Jupyter environment, please rerun this cell to show the HTML representation or trust the notebook. <br />On GitHub, the HTML representation is unable to render, please try loading this page with nbviewer.org.</b></div><div class=\"sk-container\" hidden><div class=\"sk-item\"><div class=\"sk-estimator sk-toggleable\"><input class=\"sk-toggleable__control sk-hidden--visually\" id=\"sk-estimator-id-1\" type=\"checkbox\" checked><label for=\"sk-estimator-id-1\" class=\"sk-toggleable__label sk-toggleable__label-arrow\">MultinomialNB</label><div class=\"sk-toggleable__content\"><pre>MultinomialNB()</pre></div></div></div></div></div>"
      ],
      "text/plain": [
       "MultinomialNB()"
      ]
     },
     "execution_count": 9,
     "metadata": {},
     "output_type": "execute_result"
    }
   ],
   "source": [
    "# creation du modele\n",
    "naive_bayes = MultinomialNB()\n",
    "# entrainement du modele\n",
    "naive_bayes.fit(X_train, y_train)"
   ]
  },
  {
   "cell_type": "code",
   "execution_count": 10,
   "id": "0a9f07da-f1d7-4b09-90b5-290cc3952130",
   "metadata": {},
   "outputs": [],
   "source": [
    "y_pred = naive_bayes.predict(X_train)"
   ]
  },
  {
   "cell_type": "code",
   "execution_count": 11,
   "id": "68adc652-42e8-4aac-8308-97214f5a1bf5",
   "metadata": {},
   "outputs": [
    {
     "name": "stdout",
     "output_type": "stream",
     "text": [
      "Accuracy: 0.9320388349514563\n",
      "Classification Report:\n",
      "              precision    recall  f1-score   support\n",
      "\n",
      "           0       1.00      1.00      1.00         5\n",
      "           1       1.00      1.00      1.00         6\n",
      "           2       0.80      0.80      0.80         5\n",
      "           3       0.83      1.00      0.91         5\n",
      "           4       0.83      1.00      0.91         5\n",
      "           5       0.67      1.00      0.80         8\n",
      "           6       1.00      0.83      0.91         6\n",
      "           7       1.00      1.00      1.00         7\n",
      "           8       1.00      1.00      1.00         4\n",
      "           9       1.00      1.00      1.00         4\n",
      "          10       1.00      1.00      1.00         4\n",
      "          11       1.00      1.00      1.00         4\n",
      "          12       1.00      1.00      1.00         4\n",
      "          13       1.00      1.00      1.00         6\n",
      "          14       1.00      0.50      0.67         4\n",
      "          15       1.00      1.00      1.00         4\n",
      "          16       1.00      1.00      1.00         4\n",
      "          17       1.00      0.75      0.86         4\n",
      "          18       1.00      0.75      0.86         4\n",
      "          19       1.00      0.75      0.86         4\n",
      "          20       1.00      1.00      1.00         6\n",
      "\n",
      "    accuracy                           0.93       103\n",
      "   macro avg       0.96      0.92      0.93       103\n",
      "weighted avg       0.95      0.93      0.93       103\n",
      "\n"
     ]
    }
   ],
   "source": [
    "accuracy = accuracy_score(y_train, y_pred)\n",
    "print(\"Accuracy:\", accuracy)\n",
    "\n",
    "report = classification_report(y_train, y_pred)\n",
    "print(\"Classification Report:\")\n",
    "print(report)"
   ]
  },
  {
   "cell_type": "markdown",
   "id": "68ec0da2-9185-4818-8d8c-9ca82fd770b2",
   "metadata": {},
   "source": [
    "# Sauvegarde"
   ]
  },
  {
   "cell_type": "code",
   "execution_count": 12,
   "id": "92f8d92b-72ef-470f-ae50-de985840939c",
   "metadata": {},
   "outputs": [
    {
     "data": {
      "text/plain": [
       "['modele.pkl']"
      ]
     },
     "execution_count": 12,
     "metadata": {},
     "output_type": "execute_result"
    }
   ],
   "source": [
    "joblib.dump(naive_bayes, 'modele.pkl')"
   ]
  },
  {
   "cell_type": "code",
   "execution_count": 13,
   "id": "cc5d5c54-fce9-4cf7-9986-aed6fc3b3445",
   "metadata": {},
   "outputs": [
    {
     "data": {
      "text/plain": [
       "['words.pkl']"
      ]
     },
     "execution_count": 13,
     "metadata": {},
     "output_type": "execute_result"
    }
   ],
   "source": [
    "joblib.dump(words, 'words.pkl')"
   ]
  },
  {
   "cell_type": "code",
   "execution_count": 14,
   "id": "1c02428b-9020-428d-8361-7df835a862d0",
   "metadata": {},
   "outputs": [],
   "source": [
    "# sentence = tokenize(\"Quel genre de formations offrez-vous ?\")\n",
    "# texte_vectorise = bag_of_words(sentence, words)\n",
    "# prediction = model.predict([texte_vectorise])[0]\n",
    "# prediction"
   ]
  },
  {
   "cell_type": "code",
   "execution_count": null,
   "id": "da618589-605c-47cd-9ee4-88ca980a66b4",
   "metadata": {},
   "outputs": [],
   "source": []
  }
 ],
 "metadata": {
  "kernelspec": {
   "display_name": "Python 3 (ipykernel)",
   "language": "python",
   "name": "python3"
  },
  "language_info": {
   "codemirror_mode": {
    "name": "ipython",
    "version": 3
   },
   "file_extension": ".py",
   "mimetype": "text/x-python",
   "name": "python",
   "nbconvert_exporter": "python",
   "pygments_lexer": "ipython3",
   "version": "3.11.5"
  }
 },
 "nbformat": 4,
 "nbformat_minor": 5
}
